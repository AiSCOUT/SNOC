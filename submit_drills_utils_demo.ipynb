{
 "cells": [
  {
   "cell_type": "code",
   "execution_count": 1,
   "metadata": {},
   "outputs": [],
   "source": [
    "\n",
    "JSON_FILE_PATH = 'input_data/OneDrive_1_08-03-2024/playerexport-2024-03-06_14_49_58.777Z.json'\n",
    "VIDEOS_FOLDER = 'input_data/OneDrive_1_08-03-2024/'\n",
    "SENEGAL_PLAYER_PASSWORD = \"SNOC.youth.oly.2026\"\n",
    "ENVIRONMENT = 'prod'\n"
   ]
  },
  {
   "cell_type": "code",
   "execution_count": 2,
   "metadata": {},
   "outputs": [],
   "source": [
    "import os\n",
    "import sys\n",
    "import json\n",
    "import datetime\n",
    "import logging\n",
    "import pandas as pd\n",
    "import pickle\n",
    "\n",
    "# from supporting_files.player_drill_submission import PlayerAPIClient\n",
    "# from supporting_files.register_player import create_tokens, process_registration\n",
    "\n",
    "\n",
    "logging.basicConfig(stream=sys.stdout, level=logging.INFO)"
   ]
  },
  {
   "cell_type": "code",
   "execution_count": 3,
   "metadata": {},
   "outputs": [],
   "source": [
    "from drill_automation_utilities.api.player_and_coach.player_drill_submission import PlayerAPIClient\n",
    "from drill_automation_utilities.api.player_and_coach.register_player import create_tokens, process_registration"
   ]
  }
 ],
 "metadata": {
  "kernelspec": {
   "display_name": "aiscout",
   "language": "python",
   "name": "python3"
  },
  "language_info": {
   "codemirror_mode": {
    "name": "ipython",
    "version": 3
   },
   "file_extension": ".py",
   "mimetype": "text/x-python",
   "name": "python",
   "nbconvert_exporter": "python",
   "pygments_lexer": "ipython3",
   "version": "3.11.5"
  }
 },
 "nbformat": 4,
 "nbformat_minor": 2
}
